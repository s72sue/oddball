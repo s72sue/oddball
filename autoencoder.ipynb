{
 "cells": [
  {
   "cell_type": "markdown",
   "metadata": {},
   "source": [
    "## E-I balanced network\n",
    "Based on <a href=\"http://www.cell.com/neuron/fulltext/S0896-6273(17)30417-8?_returnURL=http%3A%2F%2Flinkinghub.elsevier.com%2Fretrieve%2Fpii%2FS0896627317304178%3Fshowall%3Dtrue\"paper>this</a> paper by Denev and Colleagues. The problem with Deneve's approach is that there approach can't be generalized to non-linear dynamics and some of their synaptic weights feature instantaneous communication which is not biologically plausible."
   ]
  },
  {
   "cell_type": "code",
   "execution_count": 112,
   "metadata": {
    "collapsed": true
   },
   "outputs": [],
   "source": [
    "import nengo\n",
    "from nengo.utils.matplotlib import rasterplot\n",
    "import nengo_gui\n",
    "from nengo_gui.ipython import IPythonViz\n",
    "\n",
    "import seaborn as sns\n",
    "sns.set_style('whitegrid')\n",
    "sns.set_context(\"paper\")\n",
    "\n",
    "import numpy as np\n",
    "%matplotlib inline\n",
    "import matplotlib as mpl\n",
    "import matplotlib.pyplot as plt\n",
    "label_size = 18\n",
    "mpl.rcParams['xtick.labelsize'] = label_size \n",
    "mpl.rcParams['ytick.labelsize'] = label_size\n",
    "mpl.rcParams['axes.titlesize'] = label_size\n",
    "mpl.rcParams['axes.labelsize'] = label_size\n",
    "mpl.rcParams['legend.fontsize'] = 15"
   ]
  },
  {
   "cell_type": "code",
   "execution_count": 143,
   "metadata": {
    "collapsed": false
   },
   "outputs": [],
   "source": [
    "model = nengo.Network()\n",
    "with model:\n",
    "    \n",
    "    def lin_func(x):\n",
    "        return x+0.5\n",
    "    \n",
    "    tau = 0.03 #0.1\n",
    "    stim = nengo.Node(output=np.sin)\n",
    "    answer = nengo.Node(size_in=1)\n",
    "    nengo.Connection(stim, answer, function=lin_func)\n",
    "    \n",
    "    test = nengo.Ensemble(100, 1, radius=2)\n",
    "    nengo.Connection(stim, test, function=lin_func)\n",
    "\n",
    "\n",
    "    test_auto = nengo.Ensemble(100, 1, radius=2)\n",
    "    nengo.Connection(stim, test_auto, synapse=tau)\n",
    "    nengo.Connection(test_auto, test_auto, transform=-1, synapse=tau)  # fast corrective loop - no filtering\n",
    "    nengo.Connection(test_auto, test_auto, transform=1, synapse=tau, function=lin_func)  # slow predictive loop -\n",
    "                                                                                        # filtered spike trains\n",
    "    \n",
    "    stim_p = nengo.Probe(stim, synapse=0.1)\n",
    "    test_p = nengo.Probe(test, synapse=0.1)\n",
    "    test_spikep = nengo.Probe(test.neurons, synapse=0.1)\n",
    "    test_auto_p = nengo.Probe(test_auto, synapse=0.1)\n",
    "    test_auto_spikep = nengo.Probe(test_auto.neurons, synapse=0.1)\n",
    "    answer_p = nengo.Probe(answer, synapse=0.1)\n",
    "\n",
    "sim = nengo.Simulator(model)\n",
    "sim.run(12)"
   ]
  },
  {
   "cell_type": "code",
   "execution_count": null,
   "metadata": {
    "collapsed": false
   },
   "outputs": [],
   "source": [
    "t = sim.trange()\n",
    "\n",
    "plt.figure()\n",
    "plt.plot(t, sim.data[stim_p], 'g')\n",
    "plt.plot(t, sim.data[answer_p], 'k')\n",
    "plt.plot(t, sim.data[test_p], 'b')\n",
    "plt.plot(t, sim.data[test_auto_p], 'r')\n",
    "plt.legend([\"Input stimulus\", \"Correct value\", \"NEF\",\"Predictive loop\"] , bbox_to_anchor=(1.05, 1), loc=2, borderaxespad=0.0)\n",
    "\n",
    "plt.figure()\n",
    "rasterplot(t, sim.data[test_spikep])\n",
    "plt.title(\"Spikes from NEF ensemble\")\n",
    "plt.xlim(0,2)\n",
    "\n",
    "plt.figure()\n",
    "rasterplot(t, sim.data[test_auto_spikep])\n",
    "plt.title(\"Spikes from predictive loop ensemble\")\n",
    "plt.xlim(0,2)"
   ]
  },
  {
   "cell_type": "markdown",
   "metadata": {},
   "source": [
    "Note that putting a synaptic time constant of 0 on the fast connection doesn't give very accurate results but putting a synaptic constant on the connection gives accurate result for linear functions. However, whats more important from our perspective is anyways just the inhibitory and excitatory connections since there is evidence of them in the cortex. This can be useful for computing linear functions in a more biologically plausible way (i.e., having E-I balance)."
   ]
  },
  {
   "cell_type": "code",
   "execution_count": null,
   "metadata": {
    "collapsed": false
   },
   "outputs": [],
   "source": [
    "IPythonViz(model)"
   ]
  }
 ],
 "metadata": {
  "kernelspec": {
   "display_name": "Python 2",
   "language": "python",
   "name": "python2"
  },
  "language_info": {
   "codemirror_mode": {
    "name": "ipython",
    "version": 2
   },
   "file_extension": ".py",
   "mimetype": "text/x-python",
   "name": "python",
   "nbconvert_exporter": "python",
   "pygments_lexer": "ipython2",
   "version": "2.7.10"
  }
 },
 "nbformat": 4,
 "nbformat_minor": 0
}
